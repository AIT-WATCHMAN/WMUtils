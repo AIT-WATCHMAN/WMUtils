{
 "cells": [
  {
   "cell_type": "markdown",
   "metadata": {},
   "source": [
    "# Calibration Source Optimization -- N16"
   ]
  },
  {
   "cell_type": "code",
   "execution_count": 15,
   "metadata": {},
   "outputs": [],
   "source": [
    "import matplotlib.pyplot as plt\n",
    "from ROOT import TFile, AddressOf\n",
    "import rat\n",
    "\n",
    "plt.style.use('snoplus')"
   ]
  },
  {
   "cell_type": "code",
   "execution_count": 50,
   "metadata": {},
   "outputs": [
    {
     "name": "stdout",
     "output_type": "stream",
     "text": [
      "10\n",
      "15096\n",
      "npmt: 0\n",
      "14002\n",
      "npmt: 0\n",
      "10742\n",
      "npmt: 0\n",
      "10983\n",
      "npmt: 0\n",
      "27570\n",
      "npmt: 0\n",
      "10948\n",
      "npmt: 0\n",
      "8327\n",
      "npmt: 0\n",
      "39068\n",
      "npmt: 0\n",
      "14170\n",
      "npmt: 0\n",
      "11972\n",
      "npmt: 0\n"
     ]
    }
   ],
   "source": [
    "def parseMacro(macro):\n",
    "    # Take the macro string and get the detector parameters\n",
    "    msplit = macro.split('\\n')\n",
    "    print(msplit)\n",
    "    \n",
    "class FileParameters:\n",
    "    def __init__(self, fname):\n",
    "        fp = fname.replace('.root','')\n",
    "        fp = fp.split('_')\n",
    "        _, self.wallThickness, self.scintThickness, \\\n",
    "            self.scintHeight, self.canRadius, self.canHeight = fp\n",
    "\n",
    "def analyze(fname):\n",
    "    tfile = TFile(fname)\n",
    "    params = FileParameters(fname)\n",
    "    \n",
    "    runT = tfile.Get(\"runT\")\n",
    "    run = rat.RAT.DS.Run()\n",
    "    runT.SetBranchAddress(\"run\", AddressOf(run))\n",
    "    runT.GetEntry(0)\n",
    "    pmtinfo = run.GetPMTInfo()\n",
    "    \n",
    "    tree = tfile.Get(\"T\")\n",
    "    ds = rat.RAT.DS.Root()\n",
    "    tree.SetBranchAddress(\"ds\", AddressOf(ds))\n",
    "    \n",
    "    print(tree.GetEntries())\n",
    "\n",
    "    for ent in range(tree.GetEntries()):\n",
    "        tree.GetEntry(ent)\n",
    "        mc = ds.GetMC()\n",
    "        ntracks = mc.GetMCTrackCount()\n",
    "        print(ntracks)\n",
    "        npmt = mc.GetMCPMTCount()\n",
    "        print(f'npmt: {npmt}')\n",
    "        \n",
    "    \n",
    "analyze('calopt_5.0_1.0_50.0_55.0_155.0.root')"
   ]
  }
 ],
 "metadata": {
  "kernelspec": {
   "display_name": "Python 3",
   "language": "python",
   "name": "python3"
  },
  "language_info": {
   "codemirror_mode": {
    "name": "ipython",
    "version": 3
   },
   "file_extension": ".py",
   "mimetype": "text/x-python",
   "name": "python",
   "nbconvert_exporter": "python",
   "pygments_lexer": "ipython3",
   "version": "3.7.3"
  }
 },
 "nbformat": 4,
 "nbformat_minor": 2
}
